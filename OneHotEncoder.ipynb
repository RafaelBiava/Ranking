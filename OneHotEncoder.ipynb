{
 "cells": [
  {
   "cell_type": "code",
   "execution_count": null,
   "metadata": {
    "id": "OLXi0Y6wB4uH"
   },
   "outputs": [],
   "source": [
    "import pandas as pd\n",
    "import numpy as np\n",
    "from sklearn.preprocessing import OneHotEncoder"
   ]
  },
  {
   "cell_type": "code",
   "execution_count": null,
   "metadata": {
    "colab": {
     "base_uri": "https://localhost:8080/",
     "height": 424
    },
    "id": "yE3Cs79bFQZ5",
    "outputId": "32d26871-78e3-4d05-87c0-ef8d24598534"
   },
   "outputs": [],
   "source": [
    "df = pd.read_csv(\"Curso.csv\")"
   ]
  },
  {
   "cell_type": "code",
   "execution_count": null,
   "metadata": {},
   "outputs": [],
   "source": [
    "import pandas as pd\n",
    "\n",
    "def clean_dataset(df):\n",
    "    assert isinstance(df, pd.DataFrame), \"df needs to be a pd.DataFrame\"\n",
    "    df.dropna(inplace=True)\n",
    "    indices_to_keep = ~df.isin([np.nan, np.inf, -np.inf]).any(1)\n",
    "    return df[indices_to_keep].astype(np.float64)"
   ]
  },
  {
   "cell_type": "code",
   "execution_count": null,
   "metadata": {
    "colab": {
     "base_uri": "https://localhost:8080/"
    },
    "id": "urspXeiVFv-_",
    "outputId": "2e22e44b-b521-4c21-a930-c0f5bab32ace"
   },
   "outputs": [],
   "source": [
    "atributos_previsores = df.iloc[:,3:4]\n",
    "atributos_meta = df.iloc[:,-1]\n",
    "#atributos_previsores\n",
    "atributos_previsores\n",
    "nota_final = df.iloc[:,4:5]\n",
    "#nota_final = nota_final.replace(np.nan,0)\n",
    "\n",
    "#nota_final= nota_final[~np.isnan(nota_final).any(axis=1)]\n",
    "nota_final"
   ]
  },
  {
   "cell_type": "code",
   "execution_count": null,
   "metadata": {
    "colab": {
     "base_uri": "https://localhost:8080/"
    },
    "id": "D33oRfLvItBP",
    "outputId": "2cfc5649-3265-46b2-b465-9176b694e2d4"
   },
   "outputs": [],
   "source": [
    "atributos_meta = atributos_meta.replace('EVASÃO',1)\n",
    "atributos_meta = atributos_meta.replace('NÃO EVASÃO',0)\n",
    "atributos_meta"
   ]
  },
  {
   "cell_type": "code",
   "execution_count": null,
   "metadata": {
    "colab": {
     "base_uri": "https://localhost:8080/"
    },
    "id": "Dk4HvAijJwdJ",
    "outputId": "4bfe0d9d-88a4-494e-a6da-59695581a529"
   },
   "outputs": [],
   "source": [
    "disciplinas = df[['disciplina']]\n",
    "disciplinas"
   ]
  },
  {
   "cell_type": "code",
   "execution_count": null,
   "metadata": {
    "id": "ck4hudwUEmLc"
   },
   "outputs": [],
   "source": [
    "from sklearn.preprocessing import LabelEncoder\n",
    "encoder = LabelEncoder()\n",
    "from sklearn.preprocessing import OneHotEncoder"
   ]
  },
  {
   "cell_type": "code",
   "execution_count": null,
   "metadata": {
    "id": "jQ28VSGUE3he"
   },
   "outputs": [],
   "source": [
    "onehotencoder = OneHotEncoder()\n",
    "atributos_meta = encoder.fit_transform(atributos_meta)\n",
    "atributos_meta\n",
    "nota_final = encoder.fit_transform(nota_final)\n",
    "nota_final"
   ]
  },
  {
   "cell_type": "code",
   "execution_count": null,
   "metadata": {
    "id": "7rA7kwX-IU74"
   },
   "outputs": [],
   "source": [
    "atributos_previsores['disciplina'].value_counts()"
   ]
  },
  {
   "cell_type": "code",
   "execution_count": null,
   "metadata": {
    "colab": {
     "base_uri": "https://localhost:8080/"
    },
    "id": "ef7I5OT2I57-",
    "outputId": "1f0a41d4-8068-4748-dbad-e6aa0638d15b"
   },
   "outputs": [],
   "source": [
    "onehots = pd.get_dummies(data=disciplinas, columns=['disciplina'])\n",
    "type(onehots)"
   ]
  },
  {
   "cell_type": "code",
   "execution_count": null,
   "metadata": {
    "colab": {
     "base_uri": "https://localhost:8080/",
     "height": 531
    },
    "id": "5YcbuxjjEoit",
    "outputId": "32ed575f-5433-4350-db09-85595ffbebd4"
   },
   "outputs": [],
   "source": [
    "df = pd.concat([onehots, pd.Series(nota_final), pd.Series(atributos_meta)], axis=1)\n",
    "df = df[~np.isnan(df).any(axis=1)]"
   ]
  },
  {
   "cell_type": "code",
   "execution_count": null,
   "metadata": {
    "id": "za9-LQ0eFcUy"
   },
   "outputs": [],
   "source": [
    "df.to_csv('onehotencoder_Ciências_Biológicas.csv', index = None, header=True)"
   ]
  }
 ],
 "metadata": {
  "colab": {
   "name": "OneHotEncoder.ipynb",
   "provenance": []
  },
  "kernelspec": {
   "display_name": "Python 3",
   "language": "python",
   "name": "python3"
  },
  "language_info": {
   "codemirror_mode": {
    "name": "ipython",
    "version": 3
   },
   "file_extension": ".py",
   "mimetype": "text/x-python",
   "name": "python",
   "nbconvert_exporter": "python",
   "pygments_lexer": "ipython3",
   "version": "3.8.8"
  }
 },
 "nbformat": 4,
 "nbformat_minor": 1
}
